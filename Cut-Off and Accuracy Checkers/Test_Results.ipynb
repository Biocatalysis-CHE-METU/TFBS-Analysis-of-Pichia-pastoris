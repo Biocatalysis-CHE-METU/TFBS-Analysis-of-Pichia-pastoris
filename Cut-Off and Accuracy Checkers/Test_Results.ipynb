{
 "metadata": {
  "language_info": {
   "codemirror_mode": {
    "name": "ipython",
    "version": 3
   },
   "file_extension": ".py",
   "mimetype": "text/x-python",
   "name": "python",
   "nbconvert_exporter": "python",
   "pygments_lexer": "ipython3",
   "version": "3.8.3-final"
  },
  "orig_nbformat": 2,
  "kernelspec": {
   "name": "python3",
   "display_name": "Python 3.8.3 64-bit",
   "metadata": {
    "interpreter": {
     "hash": "fd78d22bc653699235e5315170b81e2fbc3229697c14e0b14d15442cd85d70a7"
    }
   }
  }
 },
 "nbformat": 4,
 "nbformat_minor": 2,
 "cells": [
  {
   "cell_type": "code",
   "execution_count": 1,
   "metadata": {},
   "outputs": [],
   "source": [
    "trueCases = {}\n",
    "with open(\"GrandTruth.csv\") as GrandTruth:\n",
    "    for line in GrandTruth:\n",
    "        lineListed = line.split()\n",
    "        try:\n",
    "            trueCases[lineListed[1]].append(lineListed[2])\n",
    "        except KeyError:\n",
    "            trueCases[lineListed[1]] = [lineListed[2]]"
   ]
  },
  {
   "cell_type": "code",
   "execution_count": 2,
   "metadata": {},
   "outputs": [],
   "source": [
    "import csv \n",
    "findings = []   \n",
    "with open(\"Results(3.0per10000).csv\") as csv_file:\n",
    "        Mode = \"\"\n",
    "        Reference_Dictionary = {}\n",
    "        Temporary_Dictionary = {}\n",
    "        Temporary_Site_List = []\n",
    "        Reader = csv.reader(csv_file, delimiter = \";\")\n",
    "        for Row in Reader:\n",
    "            if Row == []:\n",
    "                continue;\n",
    "            Mode = (\"Read Sequence\" if Row[0] == \"Cell ID\" else \n",
    "                     (\"Read Factor\" if Row[0] == \"HIT ID\" else Mode))\n",
    "            if (Row[0] == \"Enzyme ID\") or (Row[0] == \"HIT ID\"):\n",
    "                continue;\n",
    "            elif Row[0] == \"NULL\":\n",
    "                Temporary_Dictionary[\"Sites\"] = Temporary_Site_List\n",
    "                Reference_Dictionary[Temporary_Dictionary[\"SubUnit\"]] = {Key : Temporary_Dictionary[Key] for Key in Temporary_Dictionary.keys()}\n",
    "                Temporary_Dictionary = {}\n",
    "                Temporary_Site_List = []\n",
    "                continue;\n",
    "            if Mode == \"Read Sequence\":\n",
    "                Temporary_Dictionary = {\"Cell ID\": Row[0], \"Pathway\": Row[1], \"Reaction\": Row[2],\n",
    "                                        \"Enzyme\": Row[3], \"SubUnit\": Row[4], \"Promoter\": Row[5], \"Hash\": Row[7]}\n",
    "            elif Mode == \"Read Factor\":\n",
    "                Temporary_Site_List.append([Row[0], Row[1], Row[3]])\n",
    "        findings = Reference_Dictionary"
   ]
  },
  {
   "cell_type": "code",
   "execution_count": 3,
   "metadata": {},
   "outputs": [],
   "source": [
    "truePositives = {}\n",
    "falseNegatives = {}\n",
    "for promoter in trueCases.keys():\n",
    "    truePositives[promoter] = {}\n",
    "    falseNegatives[promoter] = []\n",
    "    for regulator in trueCases[promoter]:\n",
    "        found = False\n",
    "        for hit in findings[promoter][\"Sites\"]:\n",
    "            if hit[0] == regulator[:-1].upper():\n",
    "                found = True\n",
    "                try:\n",
    "                    truePositives[promoter][regulator].append(hit)\n",
    "                except KeyError:\n",
    "                    truePositives[promoter][regulator] = [hit]\n",
    "        if found == False:\n",
    "            falseNegatives[promoter].append(regulator)"
   ]
  },
  {
   "cell_type": "code",
   "execution_count": 4,
   "metadata": {},
   "outputs": [],
   "source": [
    "falsePositiveSites = {}\n",
    "falsePositiveFactors = {}\n",
    "for promoter in findings.keys():\n",
    "    totalSites = len(findings[promoter][\"Sites\"])\n",
    "    totalFactors = len({factor[0] for factor in findings[promoter][\"Sites\"]})\n",
    "    positiveSites = 0\n",
    "    positiveFactors = len(truePositives[promoter])\n",
    "    for regulator in truePositives[promoter].values():\n",
    "        positiveSites += len(regulator)\n",
    "    falsePositiveSites[promoter] = totalSites - positiveSites\n",
    "    falsePositiveFactors[promoter] = totalFactors - positiveFactors"
   ]
  },
  {
   "cell_type": "code",
   "execution_count": 5,
   "metadata": {},
   "outputs": [
    {
     "output_type": "stream",
     "name": "stdout",
     "text": [
      "Promoter | True Positive | False Negative | False Positive Factors | False Positive Sites\nHXK2\t9\t9\t71\t122\n\nPGI1\t3\t10\t64\t109\n\nPFK1\t6\t4\t43\t63\n\nPFK2\t8\t6\t76\t133\n\nFBA1\t8\t9\t56\t107\n\nTPI1\t5\t9\t62\t84\n\nTDH2\t11\t6\t69\t165\n\nTDH3\t12\t12\t48\t80\n\nPGK1\t8\t17\t58\t92\n\nGPM1\t4\t10\t64\t144\n\nENO2\t5\t12\t48\t70\n\nCDC19\t18\t9\t71\t152\n\nPCK1\t10\t10\t79\t150\n\nENO1\t14\t10\t95\t222\n\nFBP1\t6\t8\t79\t148\n\nZWF1\t18\t20\t81\t258\n\nSOL3\t2\t4\t69\t125\n\nSOL4\t6\t18\t69\t107\n\nGND1\t7\t8\t83\t150\n\nRPE1\t4\t2\t46\t71\n\nRKI1\t14\t5\t88\t181\n\nTKL1\t9\t10\t77\t131\n\nTAL1\t7\t6\t65\t130\n\nPDC1\t13\t10\t70\t113\n\nADH1\t10\t11\t70\t143\n\nPDA1\t3\t4\t80\t141\n\nPDB1\t0\t2\t84\t148\n\nLAT1\t5\t3\t80\t120\n\nLPD1\t4\t3\t60\t118\n\nPDX1\t1\t4\t80\t126\n\nCIT1\t9\t14\t94\t242\n\nACO1\t6\t10\t89\t192\n\nIDH1\t12\t9\t77\t142\n\nIDH2\t4\t4\t76\t142\n\nKGD1\t3\t3\t81\t148\n\nKGD2\t2\t4\t75\t115\n\nLSC1\t0\t1\t78\t118\n\nLSC2\t4\t4\t73\t115\n\nSDH1\t5\t7\t93\t190\n\nSDH2\t2\t0\t75\t121\n\nSDH3\t0\t1\t67\t109\n\nSDH4\t1\t1\t63\t89\n\nFUM1\t0\t2\t85\t160\n\nMDH1\t7\t3\t96\t266\n\nCIT2\t9\t7\t78\t150\n\nICL1\t5\t10\t76\t130\n\nMLS1\t10\t10\t60\t100\n\nMDH2\t12\t15\t68\t153\n\nADH2\t4\t10\t72\t135\n\nALD4\t9\t4\t73\t215\n\nALD6\t13\t14\t80\t244\n\nACS1\t11\t11\t75\t180\n\nACS2\t8\t4\t78\t126\n\nGUT1\t3\t4\t88\t159\n\nGUT2\t3\t5\t83\t162\n\nPYC1\t8\t13\t94\t248\n\nPYC2\t7\t3\t78\t132\n\nMAE1\t9\t11\t56\t99\n\nTrue Positive to False Negative Factor ratio is 0.9103448275862069\nTrue Positive to False Positive Factor ratio is 0.09282700421940929\n"
     ]
    }
   ],
   "source": [
    "print(\"Promoter | True Positive | False Negative | False Positive Factors | False Positive Sites\")\n",
    "totalTrue = 0\n",
    "totalFalseNeg = 0\n",
    "totalFalsePos = 0\n",
    "for promoter in trueCases.keys():\n",
    "    tPos = len(truePositives[promoter])\n",
    "    totalTrue += tPos\n",
    "    fNeg = len(falseNegatives[promoter])\n",
    "    totalFalseNeg += fNeg\n",
    "    totalFalsePos += falsePositiveFactors[promoter]\n",
    "    print(\"{}\\t{}\\t{}\\t{}\\t{}\\n\".format(promoter, tPos, fNeg, falsePositiveFactors[promoter], falsePositiveSites[promoter]))\n",
    "print(\"True Positive to False Negative Factor ratio is {}\".format(totalTrue/totalFalseNeg))\n",
    "print(\"True Positive to False Positive Factor ratio is {}\".format(totalTrue/totalFalsePos))"
   ]
  },
  {
   "source": [
    "# tfSet = set()\n",
    "# with open(\"Yeastract_TFList.txt\") as txtFile:\n",
    "#     for line in txtFile:\n",
    "#         lineListed = line.split()\n",
    "#         tfSet.add(lineListed[0])\n",
    "# \n",
    "# with open(\"TF_Dictionary.txt\", \"w\") as dictionary:\n",
    "#     for item in tfSet:\n",
    "#         dictionary.write(\"{}\\t{}\\n\".format(item,item[:-1].upper()))\n",
    "# "
   ],
   "cell_type": "code",
   "metadata": {},
   "execution_count": 6,
   "outputs": []
  }
 ]
}
