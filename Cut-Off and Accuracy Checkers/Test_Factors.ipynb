{
 "metadata": {
  "language_info": {
   "codemirror_mode": {
    "name": "ipython",
    "version": 3
   },
   "file_extension": ".py",
   "mimetype": "text/x-python",
   "name": "python",
   "nbconvert_exporter": "python",
   "pygments_lexer": "ipython3",
   "version": "3.8.3"
  },
  "orig_nbformat": 2,
  "kernelspec": {
   "name": "python3",
   "display_name": "Python 3.8.3 64-bit ('bioinfo': conda)"
  },
  "interpreter": {
   "hash": "fd78d22bc653699235e5315170b81e2fbc3229697c14e0b14d15442cd85d70a7"
  }
 },
 "nbformat": 4,
 "nbformat_minor": 2,
 "cells": [
  {
   "cell_type": "code",
   "execution_count": 1,
   "metadata": {},
   "outputs": [],
   "source": [
    "import csv\n",
    "import functions as func\n",
    "import Bio.motifs as motifs"
   ]
  },
  {
   "cell_type": "code",
   "execution_count": 2,
   "metadata": {},
   "outputs": [],
   "source": [
    "Promoter_List = []\n",
    "with open(\"Inputs.csv\") as Promoter_Data:\n",
    "    Promoter_Reader = csv.DictReader(Promoter_Data, delimiter=';')\n",
    "    Temporary_List = [\"\",\"\",\"\",\"\",\"\",\"\",\"\"]\n",
    "    Hash_Tracker = [] \n",
    "    for Row in Promoter_Reader: \n",
    "        Temporary_List[0] = Row[\"Reference Cell Line\"] if Temporary_List[0] == \"\" else Temporary_List[0]     \n",
    "        if Row[\"Hash\"] in Hash_Tracker:\n",
    "            continue;\n",
    "        Temporary_List[4] = Row[\"Reference Gene Name\"]\n",
    "        Temporary_List[5] = Row[\"Reference Sequence\"]\n",
    "        Temporary_List[6] = Row[\"Hash\"]\n",
    "        if Row[\"Pathway\"] != \"\":\n",
    "            Temporary_List[1] = Row[\"Pathway\"]\n",
    "        if Row[\"Reaction\"] != \"\":\n",
    "            Temporary_List[2] = Row[\"Reaction\"]\n",
    "        if Row[\"Reference Enzyme\"] != \"\":\n",
    "            Temporary_List[3] = Row[\"Reference Enzyme\"]\n",
    "        Promoter_List.append([Temporary_List[0],Temporary_List[1],Temporary_List[2],\n",
    "                              Temporary_List[3],Temporary_List[4],Temporary_List[5],Temporary_List[6]])\n",
    "        Hash_Tracker.append(Row[\"Hash\"])"
   ]
  },
  {
   "cell_type": "code",
   "execution_count": 3,
   "metadata": {},
   "outputs": [],
   "source": [
    "databaseDict = {}\n",
    "pssmDict = {}\n",
    "coreDict = {}\n",
    "with open(\"databaseFull.txt\") as database:\n",
    "    for Motif in motifs.parse(database, \"Jaspar\"):\n",
    "            PWM = Motif.counts.normalize(pseudocounts=func.Pseudocount_Adder(Motif.counts))\n",
    "            PSSM = PWM.log_odds(background={\"A\":0.31,\"C\":0.19, \"G\":0.19, \"T\":0.31})\n",
    "            CORE = func.core_Pssm(Motif.counts, background={\"A\":0.31,\"C\":0.19, \"G\":0.19, \"T\":0.31})\n",
    "            \n",
    "            try:\n",
    "                databaseDict[Motif.name].append(Motif.base_id)\n",
    "                pssmDict[Motif.base_id] = PSSM\n",
    "                coreDict[Motif.base_id] = CORE\n",
    "            except KeyError:\n",
    "                databaseDict[Motif.name] = [Motif.base_id]\n",
    "                pssmDict[Motif.base_id] = PSSM\n",
    "                coreDict[Motif.base_id] = CORE"
   ]
  },
  {
   "cell_type": "code",
   "execution_count": 4,
   "metadata": {},
   "outputs": [],
   "source": [
    "tfInteractsWith = {}\n",
    "with open(\"Interactions.txt\") as InteractionsList:\n",
    "    for line in InteractionsList:\n",
    "        if line.startswith(\"[\"):\n",
    "            lineListed = line[1:-2].split(\",\")\n",
    "            for index, item in enumerate(lineListed):\n",
    "                item = item.replace(\" \",\"\",-1)\n",
    "                item = item.replace(\"\\'\",\"\",-1)\n",
    "                lineListed[index] = item\n",
    "            tfInteractsWith[currentFactor] = [] if lineListed == [''] else lineListed\n",
    "        else:\n",
    "            currentFactor = line[:-1]"
   ]
  },
  {
   "cell_type": "code",
   "execution_count": 5,
   "metadata": {},
   "outputs": [
    {
     "output_type": "stream",
     "name": "stdout",
     "text": [
      "F$ABF1_01:\t45\nF$ABF1_02:\t0\nF$ABF1_03:\t38\nF$ABF1_C:\t41\nF$ABF1_Q6:\t0\nF$ABF2_01:\t15\nF$ACE2_01:\t12\nF$ADR1_01:\t36\nF$ADR1_02:\t37\nF$ADR1_Q6:\t16\nF$RCS1_01:\t30\nF$RCS1_Q2:\t11\nF$AFT2_01:\t36\nF$ARGRI_01:\t27\nF$ARGRII_01:\t26\nF$ARO80_01:\t30\nF$ARR1_01:\t18\nF$ASG1_01:\t0\nF$ASG1_02:\t43\nF$ASH1_01:\t35\nF$AZF1_01:\t36\nF$BAS1_01:\t28\nF$BAS1_Q2:\t23\nF$CAT8_01:\t43\nF$CAT8_Q6:\t33\nF$CAT8_Q6_01:\t34\nF$CBF1_01:\t23\nF$CBF1_02:\t0\nF$CBF1_03:\t26\nF$CBF1_04:\t17\nF$CBF1_05:\t33\nF$CBF1_B:\t17\nF$CBF1_Q6:\t41\nF$CEP3_01:\t30\nF$CEP3_02:\t21\nF$CHA4_01:\t50\nF$CHA4_02:\t49\nF$CIN5_01:\t29\nF$CRZ1_01:\t44\nF$CST6_01:\t20\nF$CUP2_01:\t37\nF$CUP2_Q4:\t43\nF$CUP9_01:\t6\nF$CUP9_02:\t17\nF$DAL80_01:\t15\nF$DAL81_01:\t0\nF$DAL82_01:\t33\nF$DOT6_01:\t36\nF$DOT6_02:\t0\nF$ECM22_01:\t42\nF$ECM22_02:\t39\nF$ECM23_01:\t17\nF$EDS1_01:\t41\nF$YBR239C_01:\t34\nF$YBR239C_02:\t33\nF$FHL1_01:\t28\nF$FHL1_02:\t25\nF$FKH1P_02:\t0\nF$FKH1_01:\t30\nF$FKH2P_01:\t32\nF$FKH2P_02:\t0\nF$FKH2_01:\t32\nF$FKH2_02:\t25\nF$FLP1_01:\t0\nF$FLP1_02:\t0\nF$FZF1_01:\t0\nF$GAL4_01:\t40\nF$GAL4_02:\t7\nF$GAL4_C:\t40\nF$GAT1_01:\t25\nF$GAT1_02:\t22\nF$GAT3_01:\t23\nF$GAT3_02:\t0\nF$GAT4_01:\t18\nF$GAT4_02:\t19\nF$GCN4_01:\t8\nF$GCN4_02:\t21\nF$GCN4_C:\t25\nF$GCN4_Q2:\t29\nF$GCR1_01:\t31\nF$GCR1_B:\t39\nF$GCR1_Q4:\t37\nF$GCR2_01:\t34\nF$GIS1_01:\t50\nF$GLN3_01:\t34\nF$GLN3_02:\t0\nF$GSM1_01:\t35\nF$GSM1_02:\t37\nF$GZF3_01:\t21\nF$GZF3_02:\t22\nF$HAC1_01:\t38\nF$HAC1_Q2:\t37\nF$HAL9_01:\t0\nF$HAL9_02:\t0\nF$HAP1_01:\t34\nF$HAP1_B:\t34\nF$HAP234_01:\t36\nF$HCM1P_01:\t24\nF$HCM1P_02:\t0\nF$HCM1_01:\t30\nF$MATALPHA2_03:\t14\nF$MATALPHA2_01:\t0\nF$MATALPHA2_02:\t27\nF$MATALPHA2_05:\t22\nF$MATALPHA2_06:\t0\nF$MATALPHA2_07:\t0\nF$MATALPHA2_08:\t0\nF$MATALPHA2_Q4:\t26\nF$HMO1_01:\t36\nF$HMRA1_01:\t21\nF$HMRA1_02:\t19\nF$HMRA2_01:\t31\nF$HSF_01:\t0\nF$HSF_02:\t39\nF$HSF_03:\t19\nF$HSF_04:\t19\nF$HSF_05:\t17\nF$HSF_06:\t14\nF$HSF_Q6:\t30\nF$IFH1_01:\t28\nF$IME1_01:\t34\nF$INO2_01:\t32\nF$INO4_01:\t34\nF$IXR1_01:\t38\nF$LEU3_01:\t42\nF$LEU3_02:\t41\nF$LEU3_B:\t0\nF$LEU3_Q6:\t1\nF$LYS14_01:\t43\nF$LYS14_02:\t35\nF$MAC1_Q6:\t9\nF$MAC1_Q6_01:\t9\nF$MAL63_Q5:\t27\nF$MBP1_01:\t39\nF$MBP1_02:\t42\nF$MCM1_03:\t0\nF$MCM1_01:\t26\nF$MCM1_02:\t38\nF$MCM1_Q6:\t36\nF$MATALPHA2P_Q4:\t18\nF$MET28_01:\t0\nF$MET31_01:\t24\nF$MET31_02:\t38\nF$MET32_01:\t17\nF$MET32_02:\t32\nF$MET4_01:\t23\nF$MGA1_01:\t33\nF$MIG1_01:\t41\nF$MIG1_02:\t39\nF$MIG1_03:\t36\nF$MIG1_04:\t40\nF$MIG1_Q6:\t44\nF$MIG2_01:\t33\nF$MIG2_02:\t43\nF$MIG2_03:\t43\nF$MIG3_01:\t49\nF$MIG3_02:\t46\nF$MOT2_01:\t0\nF$MOT3_01:\t18\nF$MOT3_Q2:\t39\nF$MSN2_01:\t28\nF$MSN2_Q4:\t48\nF$MSN4_01:\t49\nF$STRE_01:\t48\nF$STRE_B:\t48\nF$NDT80_01:\t35\nF$NHP10_01:\t30\nF$NHP6A_01:\t0\nF$NHP6B_01:\t0\nF$NRG1_01:\t34\nF$YAF1_01:\t39\nF$YAF1_02:\t41\nF$OPI1_01:\t20\nF$PDR1_01:\t0\nF$PDR1_02:\t50\nF$PDR1_Q2:\t5\nF$PDR1_Q2_01:\t28\nF$PDR3_02:\t2\nF$PDR3_Q2:\t13\nF$PDR8_01:\t33\nF$PHD1_01:\t35\nF$PHD1_02:\t28\nF$PHO2_01:\t0\nF$PHO2_02:\t0\nF$PHO4_01:\t39\nF$PHO4_02:\t31\nF$PHO4_03:\t0\nF$POT1P_01:\t28\nF$POT1P_02:\t0\nF$PUT3_01:\t0\nF$PUT3_02:\t46\nF$RAP1_01:\t43\nF$RAP1_02:\t31\nF$RAP1_03:\t33\nF$RAP1_C:\t30\nF$RAP1_Q6:\t37\nF$RDR1_01:\t47\nF$RDR1_02:\t42\nF$RDS1_01:\t36\nF$RDS1_02:\t42\nF$RDS2_01:\t26\nF$RDS2_02:\t28\nF$REB1_01:\t20\nF$REB1_B:\t53\nF$REB1_Q5:\t46\nF$REI1_01:\t24\nF$RFX1_01:\t22\nF$RFX1_02:\t0\nF$RGM1_01:\t49\nF$RGT1_01:\t37\nF$RGT1_02:\t37\nF$RGT1_Q5:\t43\nF$RIM101_02:\t23\nF$RLM1_02:\t6\nF$RME1_01:\t21\nF$ROX1_01:\t28\nF$ROX1_Q6:\t36\nF$ROX1_Q6_01:\t36\nF$REPCAR1_01:\t47\nF$RPH1_01:\t43\nF$RPH1_02:\t48\nF$RPN4_01:\t11\nF$RPN4_02:\t46\nF$RSC3_01:\t43\nF$RSC3_02:\t45\nF$RSC30_01:\t43\nF$RSC30_02:\t45\nF$ZMS1_01:\t43\nF$RTG3_01:\t0\nF$SFL1_01:\t31\nF$SFP1_01:\t0\nF$SIP4_01:\t0\nF$SIP4_02:\t41\nF$SKN7_01:\t0\nF$SKN7_02:\t26\nF$SMP1_01:\t0\nF$SOK2_01:\t36\nF$TBP_01:\t46\nF$TBP_Q6:\t53\nF$SPT2_01:\t20\nF$SPT23_01:\t15\nF$SRD1_01:\t28\nF$SRD1_02:\t18\nF$STB3_01:\t32\nF$STB4_01:\t28\nF$STB5_01:\t35\nF$STE12P_Q4:\t19\nF$STE12_01:\t14\nF$STE12_Q4:\t16\nF$STP1_01:\t44\nF$STP2_01:\t39\nF$STP3_01:\t36\nF$STP4_01:\t34\nF$STP4_02:\t39\nF$STUAP_01:\t38\nF$SUM1_01:\t0\nF$SUM1_02:\t30\nF$SUT1_01:\t50\nF$SUT2_01:\t32\nF$CCBF_Q6_01:\t12\nF$SWI4_01:\t36\nF$SWI4_Q6:\t9\nF$SWI4_Q6_01:\t31\nF$SWI5_01:\t16\nF$TAF_Q6:\t37\nF$TBF1_01:\t6\nF$TBF1_02:\t20\nF$TBF1_03:\t24\nF$TBF1_04:\t35\nF$TBS1_01:\t10\nF$TBS1_02:\t27\nF$YML081W_01:\t35\nF$YML081W_02:\t36\nF$TEA1_01:\t1\nF$TEA1_02:\t46\nF$TEC1_01:\t24\nF$TEC1_02:\t0\nF$TEC1_03:\t25\nF$PBF1_01:\t35\nF$PBF1_02:\t32\nF$TOS8_01:\t21\nF$SGC1_02:\t22\nF$TYE7_01:\t0\nF$UGA3_01:\t52\nF$UPC2_01:\t18\nF$YDR520C_01:\t37\nF$YDR520C_02:\t42\nF$USV1_01:\t24\nF$USV1_02:\t49\nF$XBP1_01:\t29\nF$XBP1_02:\t36\nF$XBP1_03:\t28\nF$XBP1_Q2:\t33\nF$YAP1_01:\t25\nF$YAP1_Q3:\t23\nF$YAP1_Q4:\t18\nF$YAP3_01:\t37\nF$YAP5_01:\t0\nF$YAP6_01:\t0\nF$YER130C_01:\t46\nF$YER130C_02:\t47\nF$YER184C_01:\t41\nF$YGR067C_01:\t33\nF$YGR067C_02:\t36\nF$YHP1_01:\t0\nF$YKL222C_01:\t41\nF$YKL222C_02:\t28\nF$YLL054C_01:\t0\nF$YLL054C_02:\t38\nF$YLR278C_01:\t32\nF$YNR063W_01:\t38\nF$YNR063W_02:\t37\nF$YOX1_01:\t32\nF$YOX1_02:\t21\nF$YPR013C_01:\t23\nF$YPR013C_02:\t35\nF$YPR015C_01:\t26\nF$YPR022C_01:\t25\nF$YPR196W_01:\t0\nF$YPR196W_02:\t38\nF$YRM1_01:\t0\nF$YRM1_02:\t30\nF$YRR1_01:\t40\nF$YRR1_02:\t43\nF$ZAP1_01:\t1\nF$ZAP1_Q6:\t3\nF$ZAP1_Q6_01:\t22\n"
     ]
    }
   ],
   "source": [
    "for key in tfInteractsWith:\n",
    "    print(\"{}:\\t{}\".format(key, len(tfInteractsWith[key])))"
   ]
  },
  {
   "cell_type": "code",
   "execution_count": 6,
   "metadata": {},
   "outputs": [],
   "source": [
    "truthTable_Binding = {}\n",
    "with open(\"FactorTruthTable_Binding.txt\") as aimDatabase:\n",
    "    for line in aimDatabase:\n",
    "        lineListed = line.split()\n",
    "        if len(lineListed) == 0 or lineListed[0] == \"Genes\" or lineListed[0] == \"Not\":\n",
    "            continue\n",
    "        elif lineListed[-1] == \"Promoter\" and len(lineListed) > 3:\n",
    "                truthTable_Binding[lineListed[0]] = []\n",
    "        elif lineListed[-1] == \"to\":\n",
    "                truthTable_Binding[lineListed[0]] = []\n",
    "                currentKey = lineListed[0]\n",
    "        elif lineListed[-1] == \"found!\":\n",
    "            truthTable_Binding[lineListed[0]] = []\n",
    "        elif lineListed[-1] == \"Reference\":\n",
    "            truthTable_Binding[currentKey].append(lineListed[0])"
   ]
  },
  {
   "cell_type": "code",
   "execution_count": 7,
   "metadata": {},
   "outputs": [
    {
     "output_type": "stream",
     "name": "stdout",
     "text": [
      "Abf1p:\t8\nAce2p:\t2\nAdr1p:\t17\nAft1p:\t6\nAft2p:\t1\nArg80p:\t0\nArg81p:\t0\nAro80p:\t1\nArr1p:\t0\nAsh1p:\t3\nAzf1p:\t0\nBas1p:\t0\nCat8p:\t8\nCbf1p:\t12\nCha4p:\t0\nCin5p:\t22\nCrz1p:\t10\nCst6p:\t3\nCup2p:\t0\nCup9p:\t1\nDal80p:\t0\nDal81p:\t2\nDal82p:\t0\nEcm22p:\t0\nErt1p:\t7\nFhl1p:\t19\nFkh1p:\t31\nFkh2p:\t28\nFzf1p:\t0\nGal4p:\t0\nGat1p:\t1\nGcn4p:\t12\nGcr1p:\t10\nGcr2p:\t12\nGis1p:\t0\nGln3p:\t1\nGsm1p:\t1\nGzf3p:\t1\nHac1p:\t0\nHal9p:\t1\nHap1p:\t10\nHap2p:\t1\nHap3p:\t1\nHap4p:\t4\nHcm1p:\t3\nHsf1p:\t6\nIfh1p:\t5\nIme1p:\t0\nIno2p:\t21\nIno4p:\t17\nIxr1p:\t9\nLeu3p:\t0\nLys14p:\t0\nMac1p:\t0\nMal63p:\t0\nMbp1p:\t3\nMcm1p:\t3\nMet31p:\t0\nMet32p:\t10\nMet4p:\t1\nMga1p:\t2\nMig1p:\t4\nMig2p:\t0\nMig3p:\t0\nMot2p:\t1\nMot3p:\t1\nMsn2p:\t40\nMsn4p:\t37\nNdt80p:\t35\nNrg1p:\t3\nOaf1p:\t18\nPdr1p:\t3\nPdr3p:\t0\nPdr8p:\t0\nPhd1p:\t8\nPho2p:\t4\nPho4p:\t9\nPut3p:\t1\nRap1p:\t29\nRds1p:\t2\nRds2p:\t14\nReb1p:\t9\nRfx1p:\t5\nRgm1p:\t2\nRgt1p:\t1\nRim101p:\t0\nRlm1p:\t0\nRme1p:\t0\nRox1p:\t2\nUme6p:\t2\nRph1p:\t1\nRpn4p:\t2\nRtg3p:\t4\nSfl1p:\t0\nSfp1p:\t2\nSip4p:\t6\nSkn7p:\t14\nSmp1p:\t0\nSok2p:\t18\nSpt23p:\t33\nStb4p:\t1\nStb5p:\t9\nSte12p:\t38\nStp1p:\t2\nStp2p:\t2\nSum1p:\t1\nSwi4p:\t6\nSwi5p:\t2\nTbf1p:\t8\nTda9p:\t0\nTea1p:\t0\nTec1p:\t7\nTos8p:\t3\nTye7p:\t5\nUga3p:\t1\nUpc2p:\t2\nUsv1p:\t0\nXbp1p:\t4\nYap1p:\t8\nYap3p:\t0\nYap5p:\t8\nYap6p:\t15\nCom2p:\t0\nTog1p:\t4\nYhp1p:\t1\nYox1p:\t4\nYrr1p:\t22\nZap1p:\t2\n"
     ]
    }
   ],
   "source": [
    "for key in truthTable_Binding:\n",
    "    print(\"{}:\\t{}\".format(key, len(truthTable_Binding[key])))"
   ]
  },
  {
   "cell_type": "code",
   "execution_count": 8,
   "metadata": {},
   "outputs": [],
   "source": [
    "noYeastract = [\"ABF2\", \"ASG1\", \"CEP3\", \"DOT6\", \"ECM23\", \"EDS1\",\n",
    "                \"FLP1\", \"GAT3\", \"GAT4\", \"HMO1\", \"HMRA1\", \"HMRA2\",\n",
    "                \"MATALPHA2\", \"MATALPHA2P\", \"MET28\", \"STRE\", \"NHP10\",\n",
    "                \"NHP6A\", \"NHP6B\", \"OPI1\", \"POT1P\", \"RDR1\", \"REI1\",\n",
    "                \"RSC3\",\t\"RSC30\", \"ZMS1\", \"TBP\", \"SRD1\", \"STB3\",\n",
    "                \"SPT2\", \"STP3\", \"STP4\", \"STUAP\", \"SUT1\", \"SUT2\",\n",
    "                \"CCBF\", \"TAF\", \"TBS1\", \"PBF1\", \"SGC1\", \"YDR520C\",\n",
    "                \"YGR067C\", \"YKL222C\", \"YLL054C\", \"YLR278C\", \"YNR063W\",\n",
    "                \"YPR013C\", \"YPR015C\", \"YPR022C\", \"YPR196W\", \"YRM1\"]\n",
    "\n",
    "keyMatched = []\n",
    "for keyTransfac in databaseDict.keys():\n",
    "    if keyTransfac not in noYeastract:\n",
    "        try:\n",
    "            if keyTransfac[:-1] in keyMatched[-1] and (keyTransfac[-1].isnumeric() == False or keyMatched[-1][-1].isnumeric() == False):\n",
    "                if keyTransfac[:-1] == \"ARGRI\":\n",
    "                    keyMatched.append(keyTransfac)\n",
    "                    continue    \n",
    "                string = keyMatched[-1]\n",
    "                keyMatched[-1] = []\n",
    "                keyMatched[-1].append(string)\n",
    "                keyMatched[-1].append(keyTransfac)\n",
    "            elif keyTransfac == \"HAP234\":\n",
    "                keyMatched.append(\"HAP234\")\n",
    "                keyMatched.append(\"HAP234\")\n",
    "                keyMatched.append(\"HAP234\")\n",
    "            else:\n",
    "                keyMatched.append(keyTransfac)\n",
    "        except:\n",
    "            keyMatched.append(keyTransfac)\n",
    "    else:\n",
    "        continue\n",
    "\n",
    "yeastractTOtransfac = {}\n",
    "for keyTransfac, keyYeastract in zip(keyMatched, truthTable_Binding):\n",
    "    yeastractTOtransfac[keyYeastract] = keyTransfac"
   ]
  },
  {
   "cell_type": "code",
   "execution_count": 9,
   "metadata": {},
   "outputs": [],
   "source": [
    "resultCheck = {}\n",
    "for key in truthTable_Binding:\n",
    "    resultCheck[key] = {}\n",
    "    \n",
    "    transfacVersion = yeastractTOtransfac[key]\n",
    "    try:\n",
    "        factorIDS = databaseDict[transfacVersion]\n",
    "    except:\n",
    "        factorIDS = []\n",
    "        for factorNames in transfacVersion:\n",
    "            factorIDS += databaseDict[factorNames]\n",
    "    for factorID in factorIDS:\n",
    "        temporaryInteractionList = [item for item in tfInteractsWith[factorID]]\n",
    "        resultCheck[key][factorID] = {\"TruePositive\":0,\"FalsePositive\":0,\"FalseNegative\":0}\n",
    "        trueResults = truthTable_Binding[key]\n",
    "        for result in trueResults:\n",
    "            if result in temporaryInteractionList:\n",
    "                resultCheck[key][factorID][\"TruePositive\"] += 1\n",
    "                temporaryInteractionList.remove(result)\n",
    "            else:\n",
    "                resultCheck[key][factorID][\"FalseNegative\"] += 1    \n",
    "        resultCheck[key][factorID][\"FalsePositive\"] = len(temporaryInteractionList)\n"
   ]
  },
  {
   "cell_type": "code",
   "execution_count": 10,
   "metadata": {},
   "outputs": [
    {
     "output_type": "stream",
     "name": "stdout",
     "text": [
      "\t\tTP\tFP\tFN\nAbf1p\nF$ABF1_01\t8\t37\t0\nF$ABF1_02\t0\t0\t8\nF$ABF1_03\t8\t30\t0\nF$ABF1_C\t8\t33\t0\nF$ABF1_Q6\t0\t0\t8\nAce2p\nF$ACE2_01\t1\t11\t1\nAdr1p\nF$ADR1_01\t14\t22\t3\nF$ADR1_02\t14\t23\t3\nF$ADR1_Q6\t7\t9\t10\nAft1p\nF$RCS1_01\t3\t27\t3\nF$RCS1_Q2\t2\t9\t4\nAft2p\nF$AFT2_01\t1\t35\t0\nArg80p\nF$ARGRI_01\t0\t27\t0\nArg81p\nF$ARGRII_01\t0\t26\t0\nAro80p\nF$ARO80_01\t1\t29\t0\nArr1p\nF$ARR1_01\t0\t18\t0\nAsh1p\nF$ASH1_01\t2\t33\t1\nAzf1p\nF$AZF1_01\t0\t36\t0\nBas1p\nF$BAS1_01\t0\t28\t0\nF$BAS1_Q2\t0\t23\t0\nCat8p\nF$CAT8_01\t8\t35\t0\nF$CAT8_Q6\t8\t25\t0\nF$CAT8_Q6_01\t8\t26\t0\nCbf1p\nF$CBF1_01\t9\t14\t3\nF$CBF1_02\t0\t0\t12\nF$CBF1_03\t9\t17\t3\nF$CBF1_04\t6\t11\t6\nF$CBF1_05\t11\t22\t1\nF$CBF1_B\t6\t11\t6\nF$CBF1_Q6\t12\t29\t0\nCha4p\nF$CHA4_01\t0\t50\t0\nF$CHA4_02\t0\t49\t0\nCin5p\nF$CIN5_01\t19\t10\t3\nCrz1p\nF$CRZ1_01\t9\t35\t1\nCst6p\nF$CST6_01\t2\t18\t1\nCup2p\nF$CUP2_01\t0\t37\t0\nF$CUP2_Q4\t0\t43\t0\nCup9p\nF$CUP9_01\t0\t6\t1\nF$CUP9_02\t0\t17\t1\nDal80p\nF$DAL80_01\t0\t15\t0\nDal81p\nF$DAL81_01\t0\t0\t2\nDal82p\nF$DAL82_01\t0\t33\t0\nEcm22p\nF$ECM22_01\t0\t42\t0\nF$ECM22_02\t0\t39\t0\nErt1p\nF$YBR239C_01\t6\t28\t1\nF$YBR239C_02\t6\t27\t1\nFhl1p\nF$FHL1_01\t12\t16\t7\nF$FHL1_02\t12\t13\t7\nFkh1p\nF$FKH1P_02\t0\t0\t31\nF$FKH1_01\t21\t9\t10\nFkh2p\nF$FKH2P_01\t18\t14\t10\nF$FKH2P_02\t0\t0\t28\nF$FKH2_01\t17\t15\t11\nF$FKH2_02\t15\t10\t13\nFzf1p\nF$FZF1_01\t0\t0\t0\nGal4p\nF$GAL4_01\t0\t40\t0\nF$GAL4_02\t0\t7\t0\nF$GAL4_C\t0\t40\t0\nGat1p\nF$GAT1_01\t0\t25\t1\nF$GAT1_02\t0\t22\t1\nGcn4p\nF$GCN4_01\t5\t3\t7\nF$GCN4_02\t8\t13\t4\nF$GCN4_C\t7\t18\t5\nF$GCN4_Q2\t10\t19\t2\nGcr1p\nF$GCR1_01\t10\t21\t0\nF$GCR1_B\t10\t29\t0\nF$GCR1_Q4\t10\t27\t0\nGcr2p\nF$GCR2_01\t8\t26\t4\nGis1p\nF$GIS1_01\t0\t50\t0\nGln3p\nF$GLN3_01\t1\t33\t0\nF$GLN3_02\t0\t0\t1\nGsm1p\nF$GSM1_01\t1\t34\t0\nF$GSM1_02\t1\t36\t0\nGzf3p\nF$GZF3_01\t0\t21\t1\nF$GZF3_02\t0\t22\t1\nHac1p\nF$HAC1_01\t0\t38\t0\nF$HAC1_Q2\t0\t37\t0\nHal9p\nF$HAL9_01\t0\t0\t1\nF$HAL9_02\t0\t0\t1\nHap1p\nF$HAP1_01\t6\t28\t4\nF$HAP1_B\t6\t28\t4\nHap2p\nF$HAP234_01\t1\t35\t0\nHap3p\nF$HAP234_01\t1\t35\t0\nHap4p\nF$HAP234_01\t4\t32\t0\nHcm1p\nF$HCM1P_01\t0\t24\t3\nF$HCM1P_02\t0\t0\t3\nF$HCM1_01\t0\t30\t3\nHsf1p\nF$HSF_01\t0\t0\t6\nF$HSF_02\t3\t36\t3\nF$HSF_03\t3\t16\t3\nF$HSF_04\t3\t16\t3\nF$HSF_05\t4\t13\t2\nF$HSF_06\t1\t13\t5\nF$HSF_Q6\t5\t25\t1\nIfh1p\nF$IFH1_01\t2\t26\t3\nIme1p\nF$IME1_01\t0\t34\t0\nIno2p\nF$INO2_01\t14\t18\t7\nIno4p\nF$INO4_01\t14\t20\t3\nIxr1p\nF$IXR1_01\t7\t31\t2\nLeu3p\nF$LEU3_01\t0\t42\t0\nF$LEU3_02\t0\t41\t0\nF$LEU3_B\t0\t0\t0\nF$LEU3_Q6\t0\t1\t0\nLys14p\nF$LYS14_01\t0\t43\t0\nF$LYS14_02\t0\t35\t0\nMac1p\nF$MAC1_Q6\t0\t9\t0\nF$MAC1_Q6_01\t0\t9\t0\nMal63p\nF$MAL63_Q5\t0\t27\t0\nMbp1p\nF$MBP1_01\t3\t36\t0\nF$MBP1_02\t3\t39\t0\nMcm1p\nF$MCM1_03\t0\t0\t3\nF$MCM1_01\t2\t24\t1\nF$MCM1_02\t1\t37\t2\nF$MCM1_Q6\t2\t34\t1\nMet31p\nF$MET31_01\t0\t24\t0\nF$MET31_02\t0\t38\t0\nMet32p\nF$MET32_01\t5\t12\t5\nF$MET32_02\t8\t24\t2\nMet4p\nF$MET4_01\t0\t23\t1\nMga1p\nF$MGA1_01\t1\t32\t1\nMig1p\nF$MIG1_01\t4\t37\t0\nF$MIG1_02\t4\t35\t0\nF$MIG1_03\t4\t32\t0\nF$MIG1_04\t4\t36\t0\nF$MIG1_Q6\t4\t40\t0\nMig2p\nF$MIG2_01\t0\t33\t0\nF$MIG2_02\t0\t43\t0\nF$MIG2_03\t0\t43\t0\nMig3p\nF$MIG3_01\t0\t49\t0\nF$MIG3_02\t0\t46\t0\nMot2p\nF$MOT2_01\t0\t0\t1\nMot3p\nF$MOT3_01\t1\t17\t0\nF$MOT3_Q2\t0\t39\t1\nMsn2p\nF$MSN2_01\t22\t6\t18\nF$MSN2_Q4\t34\t14\t6\nMsn4p\nF$MSN4_01\t32\t17\t5\nNdt80p\nF$NDT80_01\t26\t9\t9\nNrg1p\nF$NRG1_01\t3\t31\t0\nOaf1p\nF$YAF1_01\t16\t23\t2\nF$YAF1_02\t15\t26\t3\nPdr1p\nF$PDR1_01\t0\t0\t3\nF$PDR1_02\t3\t47\t0\nF$PDR1_Q2\t0\t5\t3\nF$PDR1_Q2_01\t0\t28\t3\nPdr3p\nF$PDR3_02\t0\t2\t0\nF$PDR3_Q2\t0\t13\t0\nPdr8p\nF$PDR8_01\t0\t33\t0\nPhd1p\nF$PHD1_01\t6\t29\t2\nF$PHD1_02\t4\t24\t4\nPho2p\nF$PHO2_01\t0\t0\t4\nF$PHO2_02\t0\t0\t4\nPho4p\nF$PHO4_01\t7\t32\t2\nF$PHO4_02\t7\t24\t2\nF$PHO4_03\t0\t0\t9\nPut3p\nF$PUT3_01\t0\t0\t1\nF$PUT3_02\t1\t45\t0\nRap1p\nF$RAP1_01\t23\t20\t6\nF$RAP1_02\t22\t9\t7\nF$RAP1_03\t23\t10\t6\nF$RAP1_C\t18\t12\t11\nF$RAP1_Q6\t23\t14\t6\nRds1p\nF$RDS1_01\t2\t34\t0\nF$RDS1_02\t2\t40\t0\nRds2p\nF$RDS2_01\t8\t18\t6\nF$RDS2_02\t8\t20\t6\nReb1p\nF$REB1_01\t6\t14\t3\nF$REB1_B\t9\t44\t0\nF$REB1_Q5\t9\t37\t0\nRfx1p\nF$RFX1_01\t1\t21\t4\nF$RFX1_02\t0\t0\t5\nRgm1p\nF$RGM1_01\t2\t47\t0\nRgt1p\nF$RGT1_01\t1\t36\t0\nF$RGT1_02\t1\t36\t0\nF$RGT1_Q5\t1\t42\t0\nRim101p\nF$RIM101_02\t0\t23\t0\nRlm1p\nF$RLM1_02\t0\t6\t0\nRme1p\nF$RME1_01\t0\t21\t0\nRox1p\nF$ROX1_01\t1\t27\t1\nF$ROX1_Q6\t2\t34\t0\nF$ROX1_Q6_01\t2\t34\t0\nUme6p\nF$REPCAR1_01\t2\t45\t0\nRph1p\nF$RPH1_01\t1\t42\t0\nF$RPH1_02\t1\t47\t0\nRpn4p\nF$RPN4_01\t0\t11\t2\nF$RPN4_02\t1\t45\t1\nRtg3p\nF$RTG3_01\t0\t0\t4\nSfl1p\nF$SFL1_01\t0\t31\t0\nSfp1p\nF$SFP1_01\t0\t0\t2\nSip4p\nF$SIP4_01\t0\t0\t6\nF$SIP4_02\t6\t35\t0\nSkn7p\nF$SKN7_01\t0\t0\t14\nF$SKN7_02\t7\t19\t7\nSmp1p\nF$SMP1_01\t0\t0\t0\nSok2p\nF$SOK2_01\t11\t25\t7\nSpt23p\nF$SPT23_01\t9\t6\t24\nStb4p\nF$STB4_01\t1\t27\t0\nStb5p\nF$STB5_01\t9\t26\t0\nSte12p\nF$STE12P_Q4\t11\t8\t27\nF$STE12_01\t8\t6\t30\nF$STE12_Q4\t8\t8\t30\nStp1p\nF$STP1_01\t1\t43\t1\nStp2p\nF$STP2_01\t2\t37\t0\nSum1p\nF$SUM1_01\t0\t0\t1\nF$SUM1_02\t0\t30\t1\nSwi4p\nF$SWI4_01\t5\t31\t1\nF$SWI4_Q6\t4\t5\t2\nF$SWI4_Q6_01\t6\t25\t0\nSwi5p\nF$SWI5_01\t0\t16\t2\nTbf1p\nF$TBF1_01\t1\t5\t7\nF$TBF1_02\t1\t19\t7\nF$TBF1_03\t4\t20\t4\nF$TBF1_04\t3\t32\t5\nTda9p\nF$YML081W_01\t0\t35\t0\nF$YML081W_02\t0\t36\t0\nTea1p\nF$TEA1_01\t0\t1\t0\nF$TEA1_02\t0\t46\t0\nTec1p\nF$TEC1_01\t2\t22\t5\nF$TEC1_02\t0\t0\t7\nF$TEC1_03\t2\t23\t5\nTos8p\nF$TOS8_01\t0\t21\t3\nTye7p\nF$TYE7_01\t0\t0\t5\nUga3p\nF$UGA3_01\t1\t51\t0\nUpc2p\nF$UPC2_01\t1\t17\t1\nUsv1p\nF$USV1_01\t0\t24\t0\nF$USV1_02\t0\t49\t0\nXbp1p\nF$XBP1_01\t3\t26\t1\nF$XBP1_02\t2\t34\t2\nF$XBP1_03\t2\t26\t2\nF$XBP1_Q2\t2\t31\t2\nYap1p\nF$YAP1_01\t5\t20\t3\nF$YAP1_Q3\t3\t20\t5\nF$YAP1_Q4\t3\t15\t5\nYap3p\nF$YAP3_01\t0\t37\t0\nYap5p\nF$YAP5_01\t0\t0\t8\nYap6p\nF$YAP6_01\t0\t0\t15\nCom2p\nF$YER130C_01\t0\t46\t0\nF$YER130C_02\t0\t47\t0\nTog1p\nF$YER184C_01\t4\t37\t0\nYhp1p\nF$YHP1_01\t0\t0\t1\nYox1p\nF$YOX1_01\t1\t31\t3\nF$YOX1_02\t1\t20\t3\nYrr1p\nF$YRR1_01\t13\t27\t9\nF$YRR1_02\t13\t30\t9\nZap1p\nF$ZAP1_01\t0\t1\t2\nF$ZAP1_Q6\t0\t3\t2\nF$ZAP1_Q6_01\t0\t22\t2\n"
     ]
    }
   ],
   "source": [
    "print(\"\\t\\t{}\\t{}\\t{}\".format(\"TP\", \"FP\", \"FN\"))\n",
    "for key in resultCheck.keys():\n",
    "    print(key)\n",
    "    for factorID in resultCheck[key]:\n",
    "        TP = resultCheck[key][factorID][\"TruePositive\"]\n",
    "        FP = resultCheck[key][factorID][\"FalsePositive\"]\n",
    "        FN = resultCheck[key][factorID][\"FalseNegative\"]\n",
    "        print(\"{}\\t{}\\t{}\\t{}\".format(factorID, TP, FP, FN))"
   ]
  },
  {
   "cell_type": "code",
   "execution_count": 11,
   "metadata": {},
   "outputs": [
    {
     "output_type": "execute_result",
     "data": {
      "text/plain": [
       "{'F$MAC1_Q6', 'F$MAC1_Q6_01', 'F$MATALPHA2_08', 'F$MSN2_Q4'}"
      ]
     },
     "metadata": {},
     "execution_count": 11
    }
   ],
   "source": [
    "lowAccuracyMatrices = set()\n",
    "with open(\"Accuracy.txt\") as acc:\n",
    "    for line in acc:\n",
    "        lineListed = line.split()\n",
    "        try:\n",
    "            if float(lineListed[2]) < 0.5:\n",
    "                lowAccuracyMatrices.add(lineListed[0])\n",
    "        except:\n",
    "            continue\n",
    "\n",
    "lowAccuracyMatrices"
   ]
  },
  {
   "cell_type": "code",
   "execution_count": 12,
   "metadata": {},
   "outputs": [],
   "source": [
    "bestMatrices = {}\n",
    "bestDatabaseSet = set()\n",
    "for key in resultCheck.keys():\n",
    "    bestFN = 100\n",
    "    for factorID in resultCheck[key].keys():\n",
    "        if factorID in lowAccuracyMatrices:\n",
    "            continue\n",
    "        elif resultCheck[key][factorID][\"FalseNegative\"] < bestFN:\n",
    "            bestMatrix = resultCheck[key][factorID]\n",
    "            bestKey = factorID\n",
    "            bestFN = resultCheck[key][factorID][\"FalseNegative\"]\n",
    "            bestFP = resultCheck[key][factorID][\"FalsePositive\"]\n",
    "        elif resultCheck[key][factorID][\"FalseNegative\"] == bestFN and resultCheck[key][factorID][\"FalsePositive\"] <= bestFP:\n",
    "            bestMatrix = resultCheck[key][factorID]\n",
    "            bestKey = factorID\n",
    "            bestFP = resultCheck[key][factorID][\"FalsePositive\"]\n",
    "        else:\n",
    "            continue\n",
    "    bestMatrices[key] = bestMatrix\n",
    "    bestDatabaseSet.add(bestKey)\n",
    "            "
   ]
  },
  {
   "cell_type": "code",
   "execution_count": 13,
   "metadata": {},
   "outputs": [
    {
     "output_type": "execute_result",
     "data": {
      "text/plain": [
       "70.59679767103349"
      ]
     },
     "metadata": {},
     "execution_count": 13
    }
   ],
   "source": [
    "totalTP, totalFN = [0, 0]\n",
    "for key in bestMatrices.keys():\n",
    "    if key == \"Yap5p\" or key == \"Yap6p\" or key == \"Spt23p\" or key == \"Ste12p\":\n",
    "        continue\n",
    "    totalTP += bestMatrices[key][\"TruePositive\"]\n",
    "    totalFN += bestMatrices[key][\"FalseNegative\"]\n",
    "totalTP/(totalFN+totalTP)*100"
   ]
  },
  {
   "cell_type": "code",
   "execution_count": 14,
   "metadata": {},
   "outputs": [
    {
     "output_type": "execute_result",
     "data": {
      "text/plain": [
       "{'Abf1p': {'TruePositive': 8, 'FalsePositive': 30, 'FalseNegative': 0},\n",
       " 'Ace2p': {'TruePositive': 1, 'FalsePositive': 11, 'FalseNegative': 1},\n",
       " 'Adr1p': {'TruePositive': 14, 'FalsePositive': 22, 'FalseNegative': 3},\n",
       " 'Aft1p': {'TruePositive': 3, 'FalsePositive': 27, 'FalseNegative': 3},\n",
       " 'Aft2p': {'TruePositive': 1, 'FalsePositive': 35, 'FalseNegative': 0},\n",
       " 'Arg80p': {'TruePositive': 0, 'FalsePositive': 27, 'FalseNegative': 0},\n",
       " 'Arg81p': {'TruePositive': 0, 'FalsePositive': 26, 'FalseNegative': 0},\n",
       " 'Aro80p': {'TruePositive': 1, 'FalsePositive': 29, 'FalseNegative': 0},\n",
       " 'Arr1p': {'TruePositive': 0, 'FalsePositive': 18, 'FalseNegative': 0},\n",
       " 'Ash1p': {'TruePositive': 2, 'FalsePositive': 33, 'FalseNegative': 1},\n",
       " 'Azf1p': {'TruePositive': 0, 'FalsePositive': 36, 'FalseNegative': 0},\n",
       " 'Bas1p': {'TruePositive': 0, 'FalsePositive': 23, 'FalseNegative': 0},\n",
       " 'Cat8p': {'TruePositive': 8, 'FalsePositive': 25, 'FalseNegative': 0},\n",
       " 'Cbf1p': {'TruePositive': 12, 'FalsePositive': 29, 'FalseNegative': 0},\n",
       " 'Cha4p': {'TruePositive': 0, 'FalsePositive': 49, 'FalseNegative': 0},\n",
       " 'Cin5p': {'TruePositive': 19, 'FalsePositive': 10, 'FalseNegative': 3},\n",
       " 'Crz1p': {'TruePositive': 9, 'FalsePositive': 35, 'FalseNegative': 1},\n",
       " 'Cst6p': {'TruePositive': 2, 'FalsePositive': 18, 'FalseNegative': 1},\n",
       " 'Cup2p': {'TruePositive': 0, 'FalsePositive': 37, 'FalseNegative': 0},\n",
       " 'Cup9p': {'TruePositive': 0, 'FalsePositive': 6, 'FalseNegative': 1},\n",
       " 'Dal80p': {'TruePositive': 0, 'FalsePositive': 15, 'FalseNegative': 0},\n",
       " 'Dal81p': {'TruePositive': 0, 'FalsePositive': 0, 'FalseNegative': 2},\n",
       " 'Dal82p': {'TruePositive': 0, 'FalsePositive': 33, 'FalseNegative': 0},\n",
       " 'Ecm22p': {'TruePositive': 0, 'FalsePositive': 39, 'FalseNegative': 0},\n",
       " 'Ert1p': {'TruePositive': 6, 'FalsePositive': 27, 'FalseNegative': 1},\n",
       " 'Fhl1p': {'TruePositive': 12, 'FalsePositive': 13, 'FalseNegative': 7},\n",
       " 'Fkh1p': {'TruePositive': 21, 'FalsePositive': 9, 'FalseNegative': 10},\n",
       " 'Fkh2p': {'TruePositive': 18, 'FalsePositive': 14, 'FalseNegative': 10},\n",
       " 'Fzf1p': {'TruePositive': 0, 'FalsePositive': 0, 'FalseNegative': 0},\n",
       " 'Gal4p': {'TruePositive': 0, 'FalsePositive': 7, 'FalseNegative': 0},\n",
       " 'Gat1p': {'TruePositive': 0, 'FalsePositive': 22, 'FalseNegative': 1},\n",
       " 'Gcn4p': {'TruePositive': 10, 'FalsePositive': 19, 'FalseNegative': 2},\n",
       " 'Gcr1p': {'TruePositive': 10, 'FalsePositive': 21, 'FalseNegative': 0},\n",
       " 'Gcr2p': {'TruePositive': 8, 'FalsePositive': 26, 'FalseNegative': 4},\n",
       " 'Gis1p': {'TruePositive': 0, 'FalsePositive': 50, 'FalseNegative': 0},\n",
       " 'Gln3p': {'TruePositive': 1, 'FalsePositive': 33, 'FalseNegative': 0},\n",
       " 'Gsm1p': {'TruePositive': 1, 'FalsePositive': 34, 'FalseNegative': 0},\n",
       " 'Gzf3p': {'TruePositive': 0, 'FalsePositive': 21, 'FalseNegative': 1},\n",
       " 'Hac1p': {'TruePositive': 0, 'FalsePositive': 37, 'FalseNegative': 0},\n",
       " 'Hal9p': {'TruePositive': 0, 'FalsePositive': 0, 'FalseNegative': 1},\n",
       " 'Hap1p': {'TruePositive': 6, 'FalsePositive': 28, 'FalseNegative': 4},\n",
       " 'Hap2p': {'TruePositive': 1, 'FalsePositive': 35, 'FalseNegative': 0},\n",
       " 'Hap3p': {'TruePositive': 1, 'FalsePositive': 35, 'FalseNegative': 0},\n",
       " 'Hap4p': {'TruePositive': 4, 'FalsePositive': 32, 'FalseNegative': 0},\n",
       " 'Hcm1p': {'TruePositive': 0, 'FalsePositive': 0, 'FalseNegative': 3},\n",
       " 'Hsf1p': {'TruePositive': 5, 'FalsePositive': 25, 'FalseNegative': 1},\n",
       " 'Ifh1p': {'TruePositive': 2, 'FalsePositive': 26, 'FalseNegative': 3},\n",
       " 'Ime1p': {'TruePositive': 0, 'FalsePositive': 34, 'FalseNegative': 0},\n",
       " 'Ino2p': {'TruePositive': 14, 'FalsePositive': 18, 'FalseNegative': 7},\n",
       " 'Ino4p': {'TruePositive': 14, 'FalsePositive': 20, 'FalseNegative': 3},\n",
       " 'Ixr1p': {'TruePositive': 7, 'FalsePositive': 31, 'FalseNegative': 2},\n",
       " 'Leu3p': {'TruePositive': 0, 'FalsePositive': 0, 'FalseNegative': 0},\n",
       " 'Lys14p': {'TruePositive': 0, 'FalsePositive': 35, 'FalseNegative': 0},\n",
       " 'Mac1p': {'TruePositive': 0, 'FalsePositive': 35, 'FalseNegative': 0},\n",
       " 'Mal63p': {'TruePositive': 0, 'FalsePositive': 27, 'FalseNegative': 0},\n",
       " 'Mbp1p': {'TruePositive': 3, 'FalsePositive': 36, 'FalseNegative': 0},\n",
       " 'Mcm1p': {'TruePositive': 2, 'FalsePositive': 24, 'FalseNegative': 1},\n",
       " 'Met31p': {'TruePositive': 0, 'FalsePositive': 24, 'FalseNegative': 0},\n",
       " 'Met32p': {'TruePositive': 8, 'FalsePositive': 24, 'FalseNegative': 2},\n",
       " 'Met4p': {'TruePositive': 0, 'FalsePositive': 23, 'FalseNegative': 1},\n",
       " 'Mga1p': {'TruePositive': 1, 'FalsePositive': 32, 'FalseNegative': 1},\n",
       " 'Mig1p': {'TruePositive': 4, 'FalsePositive': 32, 'FalseNegative': 0},\n",
       " 'Mig2p': {'TruePositive': 0, 'FalsePositive': 33, 'FalseNegative': 0},\n",
       " 'Mig3p': {'TruePositive': 0, 'FalsePositive': 46, 'FalseNegative': 0},\n",
       " 'Mot2p': {'TruePositive': 0, 'FalsePositive': 0, 'FalseNegative': 1},\n",
       " 'Mot3p': {'TruePositive': 1, 'FalsePositive': 17, 'FalseNegative': 0},\n",
       " 'Msn2p': {'TruePositive': 22, 'FalsePositive': 6, 'FalseNegative': 18},\n",
       " 'Msn4p': {'TruePositive': 32, 'FalsePositive': 17, 'FalseNegative': 5},\n",
       " 'Ndt80p': {'TruePositive': 26, 'FalsePositive': 9, 'FalseNegative': 9},\n",
       " 'Nrg1p': {'TruePositive': 3, 'FalsePositive': 31, 'FalseNegative': 0},\n",
       " 'Oaf1p': {'TruePositive': 16, 'FalsePositive': 23, 'FalseNegative': 2},\n",
       " 'Pdr1p': {'TruePositive': 3, 'FalsePositive': 47, 'FalseNegative': 0},\n",
       " 'Pdr3p': {'TruePositive': 0, 'FalsePositive': 2, 'FalseNegative': 0},\n",
       " 'Pdr8p': {'TruePositive': 0, 'FalsePositive': 33, 'FalseNegative': 0},\n",
       " 'Phd1p': {'TruePositive': 6, 'FalsePositive': 29, 'FalseNegative': 2},\n",
       " 'Pho2p': {'TruePositive': 0, 'FalsePositive': 0, 'FalseNegative': 4},\n",
       " 'Pho4p': {'TruePositive': 7, 'FalsePositive': 24, 'FalseNegative': 2},\n",
       " 'Put3p': {'TruePositive': 1, 'FalsePositive': 45, 'FalseNegative': 0},\n",
       " 'Rap1p': {'TruePositive': 23, 'FalsePositive': 10, 'FalseNegative': 6},\n",
       " 'Rds1p': {'TruePositive': 2, 'FalsePositive': 34, 'FalseNegative': 0},\n",
       " 'Rds2p': {'TruePositive': 8, 'FalsePositive': 18, 'FalseNegative': 6},\n",
       " 'Reb1p': {'TruePositive': 9, 'FalsePositive': 37, 'FalseNegative': 0},\n",
       " 'Rfx1p': {'TruePositive': 1, 'FalsePositive': 21, 'FalseNegative': 4},\n",
       " 'Rgm1p': {'TruePositive': 2, 'FalsePositive': 47, 'FalseNegative': 0},\n",
       " 'Rgt1p': {'TruePositive': 1, 'FalsePositive': 36, 'FalseNegative': 0},\n",
       " 'Rim101p': {'TruePositive': 0, 'FalsePositive': 23, 'FalseNegative': 0},\n",
       " 'Rlm1p': {'TruePositive': 0, 'FalsePositive': 6, 'FalseNegative': 0},\n",
       " 'Rme1p': {'TruePositive': 0, 'FalsePositive': 21, 'FalseNegative': 0},\n",
       " 'Rox1p': {'TruePositive': 2, 'FalsePositive': 34, 'FalseNegative': 0},\n",
       " 'Ume6p': {'TruePositive': 2, 'FalsePositive': 45, 'FalseNegative': 0},\n",
       " 'Rph1p': {'TruePositive': 1, 'FalsePositive': 42, 'FalseNegative': 0},\n",
       " 'Rpn4p': {'TruePositive': 1, 'FalsePositive': 45, 'FalseNegative': 1},\n",
       " 'Rtg3p': {'TruePositive': 0, 'FalsePositive': 0, 'FalseNegative': 4},\n",
       " 'Sfl1p': {'TruePositive': 0, 'FalsePositive': 31, 'FalseNegative': 0},\n",
       " 'Sfp1p': {'TruePositive': 0, 'FalsePositive': 0, 'FalseNegative': 2},\n",
       " 'Sip4p': {'TruePositive': 6, 'FalsePositive': 35, 'FalseNegative': 0},\n",
       " 'Skn7p': {'TruePositive': 7, 'FalsePositive': 19, 'FalseNegative': 7},\n",
       " 'Smp1p': {'TruePositive': 0, 'FalsePositive': 0, 'FalseNegative': 0},\n",
       " 'Sok2p': {'TruePositive': 11, 'FalsePositive': 25, 'FalseNegative': 7},\n",
       " 'Spt23p': {'TruePositive': 9, 'FalsePositive': 6, 'FalseNegative': 24},\n",
       " 'Stb4p': {'TruePositive': 1, 'FalsePositive': 27, 'FalseNegative': 0},\n",
       " 'Stb5p': {'TruePositive': 9, 'FalsePositive': 26, 'FalseNegative': 0},\n",
       " 'Ste12p': {'TruePositive': 11, 'FalsePositive': 8, 'FalseNegative': 27},\n",
       " 'Stp1p': {'TruePositive': 1, 'FalsePositive': 43, 'FalseNegative': 1},\n",
       " 'Stp2p': {'TruePositive': 2, 'FalsePositive': 37, 'FalseNegative': 0},\n",
       " 'Sum1p': {'TruePositive': 0, 'FalsePositive': 0, 'FalseNegative': 1},\n",
       " 'Swi4p': {'TruePositive': 6, 'FalsePositive': 25, 'FalseNegative': 0},\n",
       " 'Swi5p': {'TruePositive': 0, 'FalsePositive': 16, 'FalseNegative': 2},\n",
       " 'Tbf1p': {'TruePositive': 4, 'FalsePositive': 20, 'FalseNegative': 4},\n",
       " 'Tda9p': {'TruePositive': 0, 'FalsePositive': 35, 'FalseNegative': 0},\n",
       " 'Tea1p': {'TruePositive': 0, 'FalsePositive': 1, 'FalseNegative': 0},\n",
       " 'Tec1p': {'TruePositive': 2, 'FalsePositive': 22, 'FalseNegative': 5},\n",
       " 'Tos8p': {'TruePositive': 0, 'FalsePositive': 21, 'FalseNegative': 3},\n",
       " 'Tye7p': {'TruePositive': 0, 'FalsePositive': 0, 'FalseNegative': 5},\n",
       " 'Uga3p': {'TruePositive': 1, 'FalsePositive': 51, 'FalseNegative': 0},\n",
       " 'Upc2p': {'TruePositive': 1, 'FalsePositive': 17, 'FalseNegative': 1},\n",
       " 'Usv1p': {'TruePositive': 0, 'FalsePositive': 24, 'FalseNegative': 0},\n",
       " 'Xbp1p': {'TruePositive': 3, 'FalsePositive': 26, 'FalseNegative': 1},\n",
       " 'Yap1p': {'TruePositive': 5, 'FalsePositive': 20, 'FalseNegative': 3},\n",
       " 'Yap3p': {'TruePositive': 0, 'FalsePositive': 37, 'FalseNegative': 0},\n",
       " 'Yap5p': {'TruePositive': 0, 'FalsePositive': 0, 'FalseNegative': 8},\n",
       " 'Yap6p': {'TruePositive': 0, 'FalsePositive': 0, 'FalseNegative': 15},\n",
       " 'Com2p': {'TruePositive': 0, 'FalsePositive': 46, 'FalseNegative': 0},\n",
       " 'Tog1p': {'TruePositive': 4, 'FalsePositive': 37, 'FalseNegative': 0},\n",
       " 'Yhp1p': {'TruePositive': 0, 'FalsePositive': 0, 'FalseNegative': 1},\n",
       " 'Yox1p': {'TruePositive': 1, 'FalsePositive': 20, 'FalseNegative': 3},\n",
       " 'Yrr1p': {'TruePositive': 13, 'FalsePositive': 27, 'FalseNegative': 9},\n",
       " 'Zap1p': {'TruePositive': 0, 'FalsePositive': 1, 'FalseNegative': 2}}"
      ]
     },
     "metadata": {},
     "execution_count": 14
    }
   ],
   "source": [
    "bestMatrices"
   ]
  },
  {
   "cell_type": "code",
   "execution_count": 15,
   "metadata": {},
   "outputs": [
    {
     "output_type": "stream",
     "name": "stdout",
     "text": [
      "Adr1p: {'TruePositive': 14, 'FalsePositive': 22, 'FalseNegative': 3}\n82.35294117647058\nCbf1p: {'TruePositive': 12, 'FalsePositive': 29, 'FalseNegative': 0}\n100.0\nCin5p: {'TruePositive': 19, 'FalsePositive': 10, 'FalseNegative': 3}\n86.36363636363636\nCrz1p: {'TruePositive': 9, 'FalsePositive': 35, 'FalseNegative': 1}\n90.0\nFhl1p: {'TruePositive': 12, 'FalsePositive': 13, 'FalseNegative': 7}\n63.1578947368421\nFkh1p: {'TruePositive': 21, 'FalsePositive': 9, 'FalseNegative': 10}\n67.74193548387096\nFkh2p: {'TruePositive': 18, 'FalsePositive': 14, 'FalseNegative': 10}\n64.28571428571429\nGcn4p: {'TruePositive': 10, 'FalsePositive': 19, 'FalseNegative': 2}\n83.33333333333334\nGcr1p: {'TruePositive': 10, 'FalsePositive': 21, 'FalseNegative': 0}\n100.0\nGcr2p: {'TruePositive': 8, 'FalsePositive': 26, 'FalseNegative': 4}\n66.66666666666666\nHap1p: {'TruePositive': 6, 'FalsePositive': 28, 'FalseNegative': 4}\n60.0\nIno2p: {'TruePositive': 14, 'FalsePositive': 18, 'FalseNegative': 7}\n66.66666666666666\nIno4p: {'TruePositive': 14, 'FalsePositive': 20, 'FalseNegative': 3}\n82.35294117647058\nMet32p: {'TruePositive': 8, 'FalsePositive': 24, 'FalseNegative': 2}\n80.0\nMsn2p: {'TruePositive': 22, 'FalsePositive': 6, 'FalseNegative': 18}\n55.00000000000001\nMsn4p: {'TruePositive': 32, 'FalsePositive': 17, 'FalseNegative': 5}\n86.48648648648648\nNdt80p: {'TruePositive': 26, 'FalsePositive': 9, 'FalseNegative': 9}\n74.28571428571429\nOaf1p: {'TruePositive': 16, 'FalsePositive': 23, 'FalseNegative': 2}\n88.88888888888889\nRap1p: {'TruePositive': 23, 'FalsePositive': 10, 'FalseNegative': 6}\n79.3103448275862\nRds2p: {'TruePositive': 8, 'FalsePositive': 18, 'FalseNegative': 6}\n57.14285714285714\nSkn7p: {'TruePositive': 7, 'FalsePositive': 19, 'FalseNegative': 7}\n50.0\nSok2p: {'TruePositive': 11, 'FalsePositive': 25, 'FalseNegative': 7}\n61.111111111111114\nYrr1p: {'TruePositive': 13, 'FalsePositive': 27, 'FalseNegative': 9}\n59.09090909090909\n72.70742358078603\n"
     ]
    }
   ],
   "source": [
    "totalLargeTP, totalLargeFN = [0,0]\n",
    "for key in bestMatrices.keys():\n",
    "    if key == \"Yap5p\" or key == \"Yap6p\" or key == \"Spt23p\" or key == \"Ste12p\":\n",
    "        continue;\n",
    "    if bestMatrices[key][\"TruePositive\"] + bestMatrices[key][\"FalseNegative\"] >= 10:\n",
    "        print(\"{}: {}\".format(key,bestMatrices[key]))\n",
    "        totalLargeTP += bestMatrices[key][\"TruePositive\"]\n",
    "        totalLargeFN += bestMatrices[key][\"FalseNegative\"]\n",
    "        print(bestMatrices[key][\"TruePositive\"]/(bestMatrices[key][\"TruePositive\"]+bestMatrices[key][\"FalseNegative\"])*100)\n",
    "print(totalLargeTP/(totalLargeFN+totalLargeTP)*100)"
   ]
  },
  {
   "cell_type": "code",
   "execution_count": 16,
   "metadata": {},
   "outputs": [
    {
     "output_type": "execute_result",
     "data": {
      "text/plain": [
       "{'F$ABF1_03',\n",
       " 'F$ACE2_01',\n",
       " 'F$ADR1_01',\n",
       " 'F$AFT2_01',\n",
       " 'F$ARGRII_01',\n",
       " 'F$ARGRI_01',\n",
       " 'F$ARO80_01',\n",
       " 'F$ARR1_01',\n",
       " 'F$ASH1_01',\n",
       " 'F$AZF1_01',\n",
       " 'F$BAS1_Q2',\n",
       " 'F$CAT8_Q6',\n",
       " 'F$CBF1_Q6',\n",
       " 'F$CHA4_02',\n",
       " 'F$CIN5_01',\n",
       " 'F$CRZ1_01',\n",
       " 'F$CST6_01',\n",
       " 'F$CUP2_01',\n",
       " 'F$CUP9_01',\n",
       " 'F$DAL80_01',\n",
       " 'F$DAL81_01',\n",
       " 'F$DAL82_01',\n",
       " 'F$ECM22_02',\n",
       " 'F$FHL1_02',\n",
       " 'F$FKH1_01',\n",
       " 'F$FKH2P_01',\n",
       " 'F$FZF1_01',\n",
       " 'F$GAL4_02',\n",
       " 'F$GAT1_02',\n",
       " 'F$GCN4_Q2',\n",
       " 'F$GCR1_01',\n",
       " 'F$GCR2_01',\n",
       " 'F$GIS1_01',\n",
       " 'F$GLN3_01',\n",
       " 'F$GSM1_01',\n",
       " 'F$GZF3_01',\n",
       " 'F$HAC1_Q2',\n",
       " 'F$HAL9_02',\n",
       " 'F$HAP1_B',\n",
       " 'F$HAP234_01',\n",
       " 'F$HCM1P_02',\n",
       " 'F$HSF_Q6',\n",
       " 'F$IFH1_01',\n",
       " 'F$IME1_01',\n",
       " 'F$INO2_01',\n",
       " 'F$INO4_01',\n",
       " 'F$IXR1_01',\n",
       " 'F$LEU3_B',\n",
       " 'F$LYS14_02',\n",
       " 'F$MAL63_Q5',\n",
       " 'F$MBP1_01',\n",
       " 'F$MCM1_01',\n",
       " 'F$MET31_01',\n",
       " 'F$MET32_02',\n",
       " 'F$MET4_01',\n",
       " 'F$MGA1_01',\n",
       " 'F$MIG1_03',\n",
       " 'F$MIG2_01',\n",
       " 'F$MIG3_02',\n",
       " 'F$MOT2_01',\n",
       " 'F$MOT3_01',\n",
       " 'F$MSN2_01',\n",
       " 'F$MSN4_01',\n",
       " 'F$NDT80_01',\n",
       " 'F$NRG1_01',\n",
       " 'F$PDR1_02',\n",
       " 'F$PDR3_02',\n",
       " 'F$PDR8_01',\n",
       " 'F$PHD1_01',\n",
       " 'F$PHO2_02',\n",
       " 'F$PHO4_02',\n",
       " 'F$PUT3_02',\n",
       " 'F$RAP1_03',\n",
       " 'F$RCS1_01',\n",
       " 'F$RDS1_01',\n",
       " 'F$RDS2_01',\n",
       " 'F$REB1_Q5',\n",
       " 'F$REPCAR1_01',\n",
       " 'F$RFX1_01',\n",
       " 'F$RGM1_01',\n",
       " 'F$RGT1_02',\n",
       " 'F$RIM101_02',\n",
       " 'F$RLM1_02',\n",
       " 'F$RME1_01',\n",
       " 'F$ROX1_Q6_01',\n",
       " 'F$RPH1_01',\n",
       " 'F$RPN4_02',\n",
       " 'F$RTG3_01',\n",
       " 'F$SFL1_01',\n",
       " 'F$SFP1_01',\n",
       " 'F$SIP4_02',\n",
       " 'F$SKN7_02',\n",
       " 'F$SMP1_01',\n",
       " 'F$SOK2_01',\n",
       " 'F$SPT23_01',\n",
       " 'F$STB4_01',\n",
       " 'F$STB5_01',\n",
       " 'F$STE12P_Q4',\n",
       " 'F$STP1_01',\n",
       " 'F$STP2_01',\n",
       " 'F$SUM1_01',\n",
       " 'F$SWI4_Q6_01',\n",
       " 'F$SWI5_01',\n",
       " 'F$TBF1_03',\n",
       " 'F$TEA1_01',\n",
       " 'F$TEC1_01',\n",
       " 'F$TOS8_01',\n",
       " 'F$TYE7_01',\n",
       " 'F$UGA3_01',\n",
       " 'F$UPC2_01',\n",
       " 'F$USV1_01',\n",
       " 'F$XBP1_01',\n",
       " 'F$YAF1_01',\n",
       " 'F$YAP1_01',\n",
       " 'F$YAP3_01',\n",
       " 'F$YAP5_01',\n",
       " 'F$YAP6_01',\n",
       " 'F$YBR239C_02',\n",
       " 'F$YER130C_01',\n",
       " 'F$YER184C_01',\n",
       " 'F$YHP1_01',\n",
       " 'F$YML081W_01',\n",
       " 'F$YOX1_02',\n",
       " 'F$YRR1_01',\n",
       " 'F$ZAP1_01'}"
      ]
     },
     "metadata": {},
     "execution_count": 16
    }
   ],
   "source": [
    "bestDatabaseSet"
   ]
  }
 ]
}
